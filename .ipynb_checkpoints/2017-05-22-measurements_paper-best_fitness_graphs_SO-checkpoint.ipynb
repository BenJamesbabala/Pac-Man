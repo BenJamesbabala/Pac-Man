{
 "cells": [
  {
   "cell_type": "code",
   "execution_count": 1,
   "metadata": {
    "collapsed": true
   },
   "outputs": [],
   "source": [
    "import numpy as np\n",
    "import seaborn as sns\n",
    "import pandas as pd\n",
    "import ast"
   ]
  },
  {
   "cell_type": "code",
   "execution_count": 2,
   "metadata": {
    "collapsed": true
   },
   "outputs": [],
   "source": [
    "%matplotlib inline"
   ]
  },
  {
   "cell_type": "code",
   "execution_count": 3,
   "metadata": {
    "collapsed": true
   },
   "outputs": [],
   "source": [
    "filenames = ['data/2017-05-22-measurements-phenotype_evaluation/fitness/single/HvsL_single/bests.txt',\n",
    "             'data/2017-05-22-measurements-phenotype_evaluation/fitness/single/HvsR/HvsL.txt',\n",
    "             'data/2017-05-22-measurements-phenotype_evaluation/fitness/single/MvsL/MvsL.txt',\n",
    "             'data/2017-05-22-measurements-phenotype_evaluation/fitness/single/MvsR/MvsR.txt'\n",
    "            ]\n",
    "names = ['High vs Legacy',\n",
    "         'High vs Random',\n",
    "         'Medium vs Legacy',\n",
    "         'Medium vs Random'\n",
    "        ]\n",
    "scores = []"
   ]
  },
  {
   "cell_type": "code",
   "execution_count": 4,
   "metadata": {
    "collapsed": true
   },
   "outputs": [],
   "source": [
    "def parse(filename):\n",
    "    with open(filename) as f:\n",
    "        score = ast.literal_eval(f.readline())\n",
    "\n",
    "    scores.append(score)"
   ]
  },
  {
   "cell_type": "code",
   "execution_count": 5,
   "metadata": {},
   "outputs": [],
   "source": [
    "[parse(filename) for filename in filenames];"
   ]
  },
  {
   "cell_type": "code",
   "execution_count": 6,
   "metadata": {},
   "outputs": [],
   "source": [
    "def clear_sco(sss):\n",
    "    clear_scores = []\n",
    "    for file in sss:\n",
    "        kk = []\n",
    "        for s in file:\n",
    "            kk.append(s[0])\n",
    "        clear_scores.append(kk)\n",
    "        \n",
    "    return clear_scores"
   ]
  },
  {
   "cell_type": "code",
   "execution_count": 7,
   "metadata": {},
   "outputs": [],
   "source": [
    "final_scores = clear_sco(scores)"
   ]
  },
  {
   "cell_type": "code",
   "execution_count": 8,
   "metadata": {},
   "outputs": [],
   "source": [
    "final_scores[2] = final_scores[2][:50]\n",
    "final_scores[3] = final_scores[3][:50]"
   ]
  },
  {
   "cell_type": "code",
   "execution_count": 9,
   "metadata": {},
   "outputs": [],
   "source": [
    "df = pd.DataFrame(final_scores, index=names, columns=list(range(len(final_scores[0]))))\n",
    "df = df.transpose()"
   ]
  },
  {
   "cell_type": "code",
   "execution_count": 10,
   "metadata": {},
   "outputs": [
    {
     "data": {
      "image/png": "[encoded data removed]",
      "text/plain": [
       "<matplotlib.figure.Figure at 0x7fa249be5160>"
      ]
     },
     "metadata": {},
     "output_type": "display_data"
    }
   ],
   "source": [
    "ax = df.plot(figsize=(7,5), fontsize=13);\n",
    "ax.set_ylabel('fitness', fontsize=13);\n",
    "ax.set_xlabel('generations', fontsize=13);"
   ]
  },
  {
   "cell_type": "code",
   "execution_count": 11,
   "metadata": {
    "collapsed": true
   },
   "outputs": [],
   "source": [
    "#fig = ax.get_figure()\n",
    "#fig.savefig('so_fitness_bests')"
   ]
  }
 ],
 "metadata": {
  "kernelspec": {
   "display_name": "Python 3",
   "language": "python",
   "name": "python3"
  },
  "language_info": {
   "codemirror_mode": {
    "name": "ipython",
    "version": 3
   },
   "file_extension": ".py",
   "mimetype": "text/x-python",
   "name": "python",
   "nbconvert_exporter": "python",
   "pygments_lexer": "ipython3",
   "version": "3.6.1"
  }
 },
 "nbformat": 4,
 "nbformat_minor": 2
}
