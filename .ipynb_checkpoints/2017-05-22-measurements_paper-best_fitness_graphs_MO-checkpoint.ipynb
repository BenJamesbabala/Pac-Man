{
 "cells": [
  {
   "cell_type": "code",
   "execution_count": 1,
   "metadata": {
    "collapsed": true
   },
   "outputs": [],
   "source": [
    "import numpy as np\n",
    "import seaborn as sns\n",
    "import pandas as pd\n",
    "import ast\n",
    "import matplotlib.pyplot as plt\n",
    "from matplotlib import gridspec"
   ]
  },
  {
   "cell_type": "code",
   "execution_count": 5,
   "metadata": {
    "collapsed": true
   },
   "outputs": [],
   "source": [
    "filenames = ['data/2017-05-22-measurements-phenotype_evaluation/multi_objective/fitness/HvsL/bests.txt',\n",
    "             'data/2017-05-22-measurements-phenotype_evaluation/multi_objective/fitness/HvsR/bests.txt',\n",
    "             'data/2017-05-22-measurements-phenotype_evaluation/multi_objective/fitness/MvsL/bests.txt',\n",
    "             'data/2017-05-22-measurements-phenotype_evaluation/multi_objective/fitness/MvsR/bests.txt'\n",
    "            ]\n",
    "names = ['High vs Legacy',\n",
    "        'High vs Random',\n",
    "        'Medium vs Legacy',\n",
    "        'Medium vs Random']\n",
    "scores = []"
   ]
  },
  {
   "cell_type": "code",
   "execution_count": 6,
   "metadata": {
    "collapsed": true
   },
   "outputs": [],
   "source": [
    "def parse(filename):\n",
    "    with open(filename) as f:\n",
    "        score = ast.literal_eval(f.readline())\n",
    "\n",
    "    scores.append(score)"
   ]
  },
  {
   "cell_type": "code",
   "execution_count": 7,
   "metadata": {},
   "outputs": [],
   "source": [
    "[parse(filename) for filename in filenames];"
   ]
  },
  {
   "cell_type": "code",
   "execution_count": 8,
   "metadata": {
    "collapsed": true
   },
   "outputs": [],
   "source": [
    "def clear_sco(sss, i):\n",
    "    clear_scores = []\n",
    "    for file in sss:\n",
    "        kk = []\n",
    "        for s in file:\n",
    "            kk.append(s[i])\n",
    "        clear_scores.append(kk)\n",
    "        \n",
    "    return clear_scores"
   ]
  },
  {
   "cell_type": "code",
   "execution_count": 9,
   "metadata": {
    "collapsed": true
   },
   "outputs": [],
   "source": [
    "final_scores_0 = clear_sco(scores, 0)\n",
    "final_scores_1 = clear_sco(scores, 1)"
   ]
  },
  {
   "cell_type": "code",
   "execution_count": 10,
   "metadata": {
    "collapsed": true
   },
   "outputs": [],
   "source": [
    "final_scores_0[2] = final_scores_0[2][:100]\n",
    "final_scores_0[3] = final_scores_0[3][:100]\n",
    "final_scores_1[2] = final_scores_1[2][:100]\n",
    "final_scores_1[3] = final_scores_1[3][:100]"
   ]
  },
  {
   "cell_type": "code",
   "execution_count": 78,
   "metadata": {
    "collapsed": true
   },
   "outputs": [],
   "source": [
    "df0 = pd.DataFrame(final_scores_0, index=names, columns=list(range(len(scores[0]))))\n",
    "df0 = df0.transpose()\n",
    "df1 = pd.DataFrame(final_scores_1, index=names, columns=list(range(len(scores[0]))))\n",
    "df1 = df1.transpose()"
   ]
  },
  {
   "cell_type": "code",
   "execution_count": 209,
   "metadata": {
    "collapsed": true
   },
   "outputs": [],
   "source": [
    "gs1 = gridspec.GridSpec(2, 1, height_ratios=[65, 85]) # ratios based on ylim frames\n",
    "ax11 = plt.subplot(gs1[0])\n",
    "ax12 = plt.subplot(gs1[1])"
   ]
  },
  {
   "cell_type": "code",
   "execution_count": 210,
   "metadata": {},
   "outputs": [
    {
     "data": {
      "text/plain": [
       "[<matplotlib.lines.Line2D at 0x7f8c8e7a9f60>,\n",
       " <matplotlib.lines.Line2D at 0x7f8c8e7e49b0>,\n",
       " <matplotlib.lines.Line2D at 0x7f8c8f3aed30>,\n",
       " <matplotlib.lines.Line2D at 0x7f8c8efc3908>]"
      ]
     },
     "execution_count": 210,
     "metadata": {},
     "output_type": "execute_result"
    }
   ],
   "source": [
    "ax11.plot(df1)\n",
    "ax12.plot(df1)"
   ]
  },
  {
   "cell_type": "code",
   "execution_count": 211,
   "metadata": {},
   "outputs": [
    {
     "data": {
      "text/plain": [
       "(58000, 66500)"
      ]
     },
     "execution_count": 211,
     "metadata": {},
     "output_type": "execute_result"
    }
   ],
   "source": [
    "ax11.set_ylim(90000, 96500)  # most of the data\n",
    "ax12.set_ylim(58000, 66500)  # outliers only"
   ]
  },
  {
   "cell_type": "code",
   "execution_count": 212,
   "metadata": {
    "collapsed": true
   },
   "outputs": [],
   "source": [
    "# hide the spines between ax and ax2\n",
    "ax11.spines['bottom'].set_visible(False)\n",
    "ax12.spines['top'].set_visible(False)\n",
    "ax11.xaxis.tick_top()\n",
    "ax11.tick_params(labeltop='off')  # don't put tick labels at the top\n",
    "ax12.xaxis.tick_bottom()"
   ]
  },
  {
   "cell_type": "code",
   "execution_count": 213,
   "metadata": {},
   "outputs": [
    {
     "data": {
      "text/plain": [
       "[<matplotlib.lines.Line2D at 0x7f8c8e719ef0>]"
      ]
     },
     "execution_count": 213,
     "metadata": {},
     "output_type": "execute_result"
    }
   ],
   "source": [
    "# tiny slashes\n",
    "d = .015  # how big to make the diagonal lines in axes coordinates\n",
    "# arguments to pass to plot, just so we don't keep repeating them\n",
    "kwargs = dict(transform=ax11.transAxes, color='k', clip_on=False)\n",
    "ax11.plot((-d, +d), (-d, +d), **kwargs)        # top-left diagonal\n",
    "ax11.plot((1 - d, 1 + d), (-d, +d), **kwargs)  # top-right diagonal\n",
    "\n",
    "kwargs.update(transform=ax12.transAxes)  # switch to the bottom axes\n",
    "ax12.plot((-d, +d), (1 - d, 1 + d), **kwargs)  # bottom-left diagonal\n",
    "ax12.plot((1 - d, 1 + d), (1 - d, 1 + d), **kwargs)  # bottom-right diagonal"
   ]
  },
  {
   "cell_type": "code",
   "execution_count": 214,
   "metadata": {},
   "outputs": [
    {
     "data": {
      "text/plain": [
       "<matplotlib.legend.Legend at 0x7f8c8e719470>"
      ]
     },
     "execution_count": 214,
     "metadata": {},
     "output_type": "execute_result"
    }
   ],
   "source": [
    "ax11.set_xlim(0,49)\n",
    "ax12.set_xlim(0,49)\n",
    "plt.ylabel('fitness', fontsize=13)\n",
    "plt.xlabel('generations', fontsize=13)\n",
    "ax11.tick_params(labelsize=13)\n",
    "ax12.tick_params(labelsize=13)\n",
    "plt.legend(names)\n",
    "#plt.show()"
   ]
  },
  {
   "cell_type": "code",
   "execution_count": 215,
   "metadata": {
    "collapsed": true
   },
   "outputs": [],
   "source": [
    "plt.savefig('mo_fitness_obj2_bests.png', bbox_inches='tight', dpi=400)"
   ]
  }
 ],
 "metadata": {
  "kernelspec": {
   "display_name": "Python 3",
   "language": "python",
   "name": "python3"
  },
  "language_info": {
   "codemirror_mode": {
    "name": "ipython",
    "version": 3
   },
   "file_extension": ".py",
   "mimetype": "text/x-python",
   "name": "python",
   "nbconvert_exporter": "python",
   "pygments_lexer": "ipython3",
   "version": "3.6.1"
  }
 },
 "nbformat": 4,
 "nbformat_minor": 2
}
