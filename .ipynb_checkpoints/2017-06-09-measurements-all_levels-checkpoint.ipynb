{
 "cells": [
  {
   "cell_type": "code",
   "execution_count": 220,
   "metadata": {
    "collapsed": true
   },
   "outputs": [],
   "source": [
    "import numpy as np\n",
    "import seaborn as sns\n",
    "import pandas as pd\n",
    "import ast\n",
    "import matplotlib.pyplot as plt\n",
    "from matplotlib import gridspec"
   ]
  },
  {
   "cell_type": "code",
   "execution_count": 221,
   "metadata": {
    "collapsed": true
   },
   "outputs": [],
   "source": [
    "filenames = ['data/2017-05-22-measurements-phenotype_evaluation/single_objective/fitness/HvsL_single/bests.txt',\n",
    "             'data/2017-05-22-measurements-phenotype_evaluation/single_objective/fitness/HvsR/HvsL.txt',\n",
    "             'data/2017-05-22-measurements-phenotype_evaluation/single_objective/fitness/MvsL/MvsL.txt',\n",
    "             'data/2017-05-22-measurements-phenotype_evaluation/single_objective/fitness/MvsR/MvsR.txt',\n",
    "             'data/2017-06-09-measurements-low_level/LowVSLegacy/fitnesses.txt',\n",
    "             'data/2017-06-09-measurements-low_level/LowVSRandom/fitnesses.txt'\n",
    "            ]\n",
    "names = ['High vs Legacy',\n",
    "         'High vs Random',\n",
    "         'Medium vs Legacy',\n",
    "         'Medium vs Random',\n",
    "         'Low vs Legacy',\n",
    "         'Low vs Random'\n",
    "        ]\n",
    "scores = []"
   ]
  },
  {
   "cell_type": "code",
   "execution_count": 222,
   "metadata": {
    "collapsed": true
   },
   "outputs": [],
   "source": [
    "def parse(filename):\n",
    "    with open(filename) as f:\n",
    "        score = ast.literal_eval(f.readline())\n",
    "\n",
    "    scores.append(score)"
   ]
  },
  {
   "cell_type": "code",
   "execution_count": 223,
   "metadata": {
    "collapsed": true
   },
   "outputs": [],
   "source": [
    "[parse(filename) for filename in filenames];"
   ]
  },
  {
   "cell_type": "code",
   "execution_count": 224,
   "metadata": {
    "collapsed": true
   },
   "outputs": [],
   "source": [
    "def clear_sco(sss):\n",
    "    clear_scores = []\n",
    "    for file in sss:\n",
    "        kk = []\n",
    "        for s in file:\n",
    "            kk.append(s[0])\n",
    "        clear_scores.append(kk)\n",
    "        \n",
    "    return clear_scores"
   ]
  },
  {
   "cell_type": "code",
   "execution_count": 225,
   "metadata": {
    "collapsed": true
   },
   "outputs": [],
   "source": [
    "final_scores = clear_sco(scores)"
   ]
  },
  {
   "cell_type": "code",
   "execution_count": 226,
   "metadata": {
    "collapsed": true
   },
   "outputs": [],
   "source": [
    "final_scores[2] = final_scores[2][:50]\n",
    "final_scores[3] = final_scores[3][:50]\n",
    "final_scores[4] = final_scores[4][:50]\n",
    "final_scores[5] = final_scores[5][:50]"
   ]
  },
  {
   "cell_type": "code",
   "execution_count": 227,
   "metadata": {
    "collapsed": true
   },
   "outputs": [],
   "source": [
    "df = pd.DataFrame(final_scores, index=names, columns=list(range(len(final_scores[0]))))\n",
    "df = df.transpose()"
   ]
  },
  {
   "cell_type": "code",
   "execution_count": 228,
   "metadata": {},
   "outputs": [],
   "source": [
    "gs = gridspec.GridSpec(2, 1, height_ratios=[75, 34])\n",
    "ax = plt.subplot(gs[0])\n",
    "ax2 = plt.subplot(gs[1])\n",
    "\n",
    "ax.set_prop_cycle(plt.cycler('color', [sns.xkcd_rgb[\"pale red\"], sns.xkcd_rgb[\"pale red\"], sns.xkcd_rgb[\"medium green\"], sns.xkcd_rgb[\"medium green\"], sns.xkcd_rgb[\"denim blue\"], sns.xkcd_rgb[\"denim blue\"]]))\n",
    "ax2.set_prop_cycle(plt.cycler('color', [sns.xkcd_rgb[\"pale red\"], sns.xkcd_rgb[\"pale red\"], sns.xkcd_rgb[\"medium green\"], sns.xkcd_rgb[\"medium green\"], sns.xkcd_rgb[\"denim blue\"], sns.xkcd_rgb[\"denim blue\"]]))"
   ]
  },
  {
   "cell_type": "code",
   "execution_count": 229,
   "metadata": {
    "collapsed": true
   },
   "outputs": [],
   "source": [
    "ax = df.plot(style=['-', '--', '-', '--', '-', '--'], ax=ax, lw=1.5)\n",
    "ax2 = df.plot(style=['-', '--', '-', '--', '-', '--'], ax=ax2, lw=1.5)"
   ]
  },
  {
   "cell_type": "code",
   "execution_count": 230,
   "metadata": {},
   "outputs": [
    {
     "data": {
      "text/plain": [
       "(60600, 64000)"
      ]
     },
     "execution_count": 230,
     "metadata": {},
     "output_type": "execute_result"
    }
   ],
   "source": [
    "ax.set_ylim(88500, 100000)  # most of the data\n",
    "ax2.set_ylim(60600, 64000)  # outliers only"
   ]
  },
  {
   "cell_type": "code",
   "execution_count": 231,
   "metadata": {
    "collapsed": true
   },
   "outputs": [],
   "source": [
    "# hide the spines between ax and ax2\n",
    "ax.spines['bottom'].set_visible(False)\n",
    "ax2.spines['top'].set_visible(False)\n",
    "ax.xaxis.tick_top()\n",
    "ax.tick_params(labeltop='off')  # don't put tick labels at the top\n",
    "ax2.xaxis.tick_bottom()"
   ]
  },
  {
   "cell_type": "code",
   "execution_count": 232,
   "metadata": {},
   "outputs": [
    {
     "data": {
      "text/plain": [
       "[<matplotlib.lines.Line2D at 0x7fcb316e0cf8>]"
      ]
     },
     "execution_count": 232,
     "metadata": {},
     "output_type": "execute_result"
    }
   ],
   "source": [
    "# tiny slashes\n",
    "d = .015  # how big to make the diagonal lines in axes coordinates\n",
    "# arguments to pass to plot, just so we don't keep repeating them\n",
    "kwargs = dict(transform=ax.transAxes, color='k', clip_on=False)\n",
    "ax.plot((-d, +d), (-d, +d), **kwargs)        # top-left diagonal\n",
    "ax.plot((1 - d, 1 + d), (-d, +d), **kwargs)  # top-right diagonal\n",
    "\n",
    "kwargs.update(transform=ax2.transAxes)  # switch to the bottom axes\n",
    "ax2.plot((-d, +d), (1 - d, 1 + d), **kwargs)  # bottom-left diagonal\n",
    "ax2.plot((1 - d, 1 + d), (1 - d, 1 + d), **kwargs)  # bottom-right diagonal"
   ]
  },
  {
   "cell_type": "code",
   "execution_count": 233,
   "metadata": {},
   "outputs": [
    {
     "data": {
      "image/png": "[encoded data removed]",
      "text/plain": [
       "<matplotlib.figure.Figure at 0x7fcb31f48d30>"
      ]
     },
     "metadata": {},
     "output_type": "display_data"
    }
   ],
   "source": [
    "ax.set_xlim(0,49)\n",
    "ax2.set_xlim(0,49)\n",
    "plt.ylabel('fitness', fontsize=13)\n",
    "plt.xlabel('generations', fontsize=13)\n",
    "ax.tick_params(labelsize=13)\n",
    "ax2.tick_params(labelsize=13)\n",
    "plt.legend(names)\n",
    "ax.legend().set_visible(False)\n",
    "plt.style.use('seaborn-paper')\n",
    "plt.show()"
   ]
  },
  {
   "cell_type": "code",
   "execution_count": 234,
   "metadata": {
    "collapsed": true
   },
   "outputs": [],
   "source": [
    "#plt.savefig('all_fitnesses.png', bbox_inches='tight', dpi=400)"
   ]
  }
 ],
 "metadata": {
  "kernelspec": {
   "display_name": "Python 3",
   "language": "python",
   "name": "python3"
  },
  "language_info": {
   "codemirror_mode": {
    "name": "ipython",
    "version": 3
   },
   "file_extension": ".py",
   "mimetype": "text/x-python",
   "name": "python",
   "nbconvert_exporter": "python",
   "pygments_lexer": "ipython3",
   "version": "3.6.1"
  }
 },
 "nbformat": 4,
 "nbformat_minor": 2
}
