{
 "cells": [
  {
   "cell_type": "code",
   "execution_count": 1,
   "metadata": {
    "collapsed": true
   },
   "outputs": [],
   "source": [
    "import numpy as np\n",
    "import seaborn as sns"
   ]
  },
  {
   "cell_type": "code",
   "execution_count": 2,
   "metadata": {
    "collapsed": true
   },
   "outputs": [],
   "source": [
    "%matplotlib inline"
   ]
  },
  {
   "cell_type": "code",
   "execution_count": 3,
   "metadata": {
    "collapsed": true
   },
   "outputs": [],
   "source": [
    "filenames = ['data/repeat/mil.txt']"
   ]
  },
  {
   "cell_type": "code",
   "execution_count": 4,
   "metadata": {
    "collapsed": true
   },
   "outputs": [],
   "source": [
    "def study(filename):\n",
    "    with open(filename) as f:\n",
    "        score = f.readline()\n",
    "        last_level = f.readline()[:-1]\n",
    "        time = f.readline()[:-1]\n",
    "    \n",
    "    score = np.array([int(b) for b in list(score.split(','))[:-1]])\n",
    "    last_level = np.array([int(b) for b in list(last_level.split(','))[:-1]])\n",
    "    time = np.array([int(b) for b in list(time.split(','))[:-1]])\n",
    "\n",
    "    print(filename)\n",
    "    print('score')\n",
    "    print('  best: ' + str(score.max()))\n",
    "    print('  mean: ' + str(score.mean()))\n",
    "    print('  std: ' + str(score.std()))\n",
    "    print('last_level')\n",
    "    print('  best: ' + str(last_level.max()))\n",
    "    print('  mean: ' + str(last_level.mean()))\n",
    "    print('  std: ' + str(last_level.std()))\n",
    "    print('time')\n",
    "    print('  best: ' + str(time.max()))\n",
    "    print('  mean: ' + str(time.mean()))\n",
    "    print('  std: ' + str(time.std()))\n",
    "    print()\n",
    "    \n",
    "    print('latex')\n",
    "    print('& ' + str(score.max()) + ' & ' + str(score.mean()) + ' & ' + str(score.std()) + ' & ' \n",
    "          + str(last_level.max()) + ' & ' + str(last_level.mean()) + ' & ' + str(last_level.std()) + ' & ' \n",
    "          + str(time.max()) + ' & ' + str(time.mean()) + ' & ' + str(time.std()))"
   ]
  },
  {
   "cell_type": "code",
   "execution_count": 5,
   "metadata": {
    "scrolled": false
   },
   "outputs": [
    {
     "name": "stdout",
     "output_type": "stream",
     "text": [
      "data/repeat/mil.txt\n",
      "score\n",
      "  best: 18020\n",
      "  mean: 6228.62\n",
      "  std: 2831.49040182\n",
      "last_level\n",
      "  best: 3\n",
      "  mean: 0.859\n",
      "  std: 0.69650484564\n",
      "time\n",
      "  best: 5041\n",
      "  mean: 1904.863\n",
      "  std: 725.176662773\n",
      "\n",
      "latex\n",
      "& 18020 & 6228.62 & 2831.49040182 & 3 & 0.859 & 0.69650484564 & 5041 & 1904.863 & 725.176662773\n"
     ]
    }
   ],
   "source": [
    "[study(filename) for filename in filenames];"
   ]
  }
 ],
 "metadata": {
  "kernelspec": {
   "display_name": "Python 3",
   "language": "python",
   "name": "python3"
  },
  "language_info": {
   "codemirror_mode": {
    "name": "ipython",
    "version": 3
   },
   "file_extension": ".py",
   "mimetype": "text/x-python",
   "name": "python",
   "nbconvert_exporter": "python",
   "pygments_lexer": "ipython3",
   "version": "3.6.1"
  }
 },
 "nbformat": 4,
 "nbformat_minor": 2
}
