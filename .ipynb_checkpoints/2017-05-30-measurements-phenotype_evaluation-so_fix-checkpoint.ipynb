{
 "cells": [
  {
   "cell_type": "code",
   "execution_count": 21,
   "metadata": {
    "collapsed": true
   },
   "outputs": [],
   "source": [
    "import numpy as np\n",
    "import pandas as pd\n",
    "import seaborn as sns\n",
    "import ast\n",
    "import matplotlib.pyplot as plt\n",
    "from matplotlib import gridspec"
   ]
  },
  {
   "cell_type": "code",
   "execution_count": 22,
   "metadata": {
    "collapsed": true
   },
   "outputs": [],
   "source": [
    "%matplotlib inline"
   ]
  },
  {
   "cell_type": "code",
   "execution_count": 23,
   "metadata": {
    "collapsed": true
   },
   "outputs": [],
   "source": [
    "filenames = ['data/2017-05-22-measurements-phenotype_evaluation/single_objective/graphs_fix/HvsL.txt',\n",
    "             'data/2017-05-22-measurements-phenotype_evaluation/single_objective/graphs_fix/HvsR.txt',\n",
    "             'data/2017-05-22-measurements-phenotype_evaluation/single_objective/graphs_fix/MvsL.txt',\n",
    "             'data/2017-05-22-measurements-phenotype_evaluation/single_objective/graphs_fix/MvsR.txt'\n",
    "            ]\n",
    "names = ['High vs Legacy',\n",
    "         'High vs Random',\n",
    "         'Medium vs Legacy',\n",
    "         'Medium vs Random'\n",
    "        ]\n",
    "scores = []"
   ]
  },
  {
   "cell_type": "code",
   "execution_count": 24,
   "metadata": {
    "collapsed": true
   },
   "outputs": [],
   "source": [
    "def parse(filename):\n",
    "    with open(filename) as f:\n",
    "        score = ast.literal_eval(f.readline())\n",
    "\n",
    "    scores.append(score)"
   ]
  },
  {
   "cell_type": "code",
   "execution_count": 25,
   "metadata": {
    "collapsed": true
   },
   "outputs": [],
   "source": [
    "[parse(filename) for filename in filenames];"
   ]
  },
  {
   "cell_type": "code",
   "execution_count": 26,
   "metadata": {
    "collapsed": true
   },
   "outputs": [],
   "source": [
    "def clear_sco(sss):\n",
    "    clear_scores = []\n",
    "    for file in sss:\n",
    "        kk = []\n",
    "        for s in file:\n",
    "            kk.append(s[0])\n",
    "        clear_scores.append(kk)\n",
    "        \n",
    "    return clear_scores"
   ]
  },
  {
   "cell_type": "code",
   "execution_count": 27,
   "metadata": {
    "collapsed": true
   },
   "outputs": [],
   "source": [
    "final_scores = clear_sco(scores)"
   ]
  },
  {
   "cell_type": "code",
   "execution_count": 28,
   "metadata": {
    "collapsed": true
   },
   "outputs": [],
   "source": [
    "df = pd.DataFrame(final_scores, index=names, columns=list(range(100)))\n",
    "df = df.transpose()"
   ]
  },
  {
   "cell_type": "code",
   "execution_count": 29,
   "metadata": {},
   "outputs": [
    {
     "data": {
      "image/png": "[encoded data removed]",
      "text/plain": [
       "<matplotlib.figure.Figure at 0x7f72b58a6d30>"
      ]
     },
     "metadata": {},
     "output_type": "display_data"
    }
   ],
   "source": [
    "plt.style.use(['seaborn-white', 'seaborn-paper'])\n",
    "ax = plt.gca()\n",
    "ax.set_prop_cycle(plt.cycler('color', [sns.xkcd_rgb[\"pale red\"], sns.xkcd_rgb[\"pale red\"], sns.xkcd_rgb[\"medium green\"], sns.xkcd_rgb[\"medium green\"]]))\n",
    "ax = df.plot(style=['-', '--', '-', '--', '-', '--'], lw=1.5, ax=ax)\n",
    "ax.set_ylabel('fitness', fontsize=12)\n",
    "ax.set_xlabel('generations', fontsize=12)\n",
    "ax.tick_params(labelsize=12)"
   ]
  },
  {
   "cell_type": "code",
   "execution_count": 30,
   "metadata": {
    "collapsed": true
   },
   "outputs": [],
   "source": [
    "ax.get_figure().savefig('so_fitness_bests.png', bbox_inches='tight', dpi=400)"
   ]
  }
 ],
 "metadata": {
  "kernelspec": {
   "display_name": "Python 3",
   "language": "python",
   "name": "python3"
  },
  "language_info": {
   "codemirror_mode": {
    "name": "ipython",
    "version": 3
   },
   "file_extension": ".py",
   "mimetype": "text/x-python",
   "name": "python",
   "nbconvert_exporter": "python",
   "pygments_lexer": "ipython3",
   "version": "3.6.1"
  }
 },
 "nbformat": 4,
 "nbformat_minor": 2
}
