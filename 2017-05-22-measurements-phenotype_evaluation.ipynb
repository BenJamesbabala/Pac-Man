{
 "cells": [
  {
   "cell_type": "code",
   "execution_count": 130,
   "metadata": {
    "collapsed": true
   },
   "outputs": [],
   "source": [
    "import numpy as np\n",
    "import seaborn as sns"
   ]
  },
  {
   "cell_type": "code",
   "execution_count": 131,
   "metadata": {
    "collapsed": true
   },
   "outputs": [],
   "source": [
    "%matplotlib inline"
   ]
  },
  {
   "cell_type": "code",
   "execution_count": 132,
   "metadata": {
    "collapsed": true
   },
   "outputs": [],
   "source": [
    "filenames = ['data/2017-05-22-measurements-phenotype_evaluation/MvsL.txt',\n",
    "             'data/2017-05-22-measurements-phenotype_evaluation/MvsL.txt']"
   ]
  },
  {
   "cell_type": "code",
   "execution_count": 133,
   "metadata": {
    "collapsed": true
   },
   "outputs": [],
   "source": [
    "def study(filename):\n",
    "    with open(filename) as f:\n",
    "        score = f.readline()\n",
    "        last_level = f.readline()[:-1]\n",
    "        time = f.readline()[:-1]\n",
    "    \n",
    "    score = np.array([int(b) for b in list(score.split(','))[:-1]])\n",
    "    last_level = np.array([int(b) for b in list(last_level.split(','))[:-1]])\n",
    "    time = np.array([int(b) for b in list(time.split(','))[:-1]])\n",
    "\n",
    "    print(filename)\n",
    "    print('score')\n",
    "    print('  mean: ' + str(score.mean()))\n",
    "    print('  best: ' + str(score.max()))\n",
    "    print('  std: ' + str(score.std()))\n",
    "    print('last_level')\n",
    "    print('  mean: ' + str(last_level.mean()))\n",
    "    print('  best: ' + str(last_level.max()))\n",
    "    print('  std: ' + str(last_level.std()))\n",
    "    print('time')\n",
    "    print('  mean: ' + str(time.mean()))\n",
    "    print('  best: ' + str(time.max()))\n",
    "    print('  std: ' + str(time.std()))\n",
    "    print()\n",
    "    #sns.distplot(score);"
   ]
  },
  {
   "cell_type": "code",
   "execution_count": 134,
   "metadata": {},
   "outputs": [
    {
     "name": "stdout",
     "output_type": "stream",
     "text": [
      "data/2017-05-22-measurements-phenotype_evaluation/MvsL.txt\n",
      "score\n",
      "  mean: 6358.26\n",
      "  best: 15960\n",
      "  std: 2883.33244223\n",
      "last_level\n",
      "  mean: 0.889\n",
      "  best: 3\n",
      "  std: 0.700484832098\n",
      "time\n",
      "  mean: 1915.745\n",
      "  best: 4973\n",
      "  std: 729.882509706\n",
      "\n",
      "data/2017-05-22-measurements-phenotype_evaluation/MvsL.txt\n",
      "score\n",
      "  mean: 6358.26\n",
      "  best: 15960\n",
      "  std: 2883.33244223\n",
      "last_level\n",
      "  mean: 0.889\n",
      "  best: 3\n",
      "  std: 0.700484832098\n",
      "time\n",
      "  mean: 1915.745\n",
      "  best: 4973\n",
      "  std: 729.882509706\n",
      "\n"
     ]
    }
   ],
   "source": [
    "[study(filename) for filename in filenames];"
   ]
  }
 ],
 "metadata": {
  "kernelspec": {
   "display_name": "Python 3",
   "language": "python",
   "name": "python3"
  },
  "language_info": {
   "codemirror_mode": {
    "name": "ipython",
    "version": 3
   },
   "file_extension": ".py",
   "mimetype": "text/x-python",
   "name": "python",
   "nbconvert_exporter": "python",
   "pygments_lexer": "ipython3",
   "version": "3.6.1"
  }
 },
 "nbformat": 4,
 "nbformat_minor": 2
}
