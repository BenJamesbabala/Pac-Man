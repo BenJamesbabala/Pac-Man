{
 "cells": [
  {
   "cell_type": "code",
   "execution_count": 1,
   "metadata": {
    "collapsed": true
   },
   "outputs": [],
   "source": [
    "import numpy as np\n",
    "import seaborn as sns"
   ]
  },
  {
   "cell_type": "code",
   "execution_count": 2,
   "metadata": {
    "collapsed": true
   },
   "outputs": [],
   "source": [
    "%matplotlib inline"
   ]
  },
  {
   "cell_type": "code",
   "execution_count": 3,
   "metadata": {
    "collapsed": true
   },
   "outputs": [],
   "source": [
    "filenames = ['data/2017-05-22-measurements-phenotype_evaluation/multi_objective/HvsR.txt',\n",
    "             'data/2017-05-22-measurements-phenotype_evaluation/multi_objective/MvsL.txt',\n",
    "             'data/2017-05-22-measurements-phenotype_evaluation/multi_objective/MvsR.txt']"
   ]
  },
  {
   "cell_type": "code",
   "execution_count": 4,
   "metadata": {
    "collapsed": true
   },
   "outputs": [],
   "source": [
    "def study(filename):\n",
    "    with open(filename) as f:\n",
    "        score = f.readline()\n",
    "        last_level = f.readline()[:-1]\n",
    "        time = f.readline()[:-1]\n",
    "    \n",
    "    score = np.array([int(b) for b in list(score.split(','))[:-1]])\n",
    "    last_level = np.array([int(b) for b in list(last_level.split(','))[:-1]])\n",
    "    time = np.array([int(b) for b in list(time.split(','))[:-1]])\n",
    "\n",
    "    print(filename)\n",
    "    print('score')\n",
    "    print('  best: ' + str(score.max()))\n",
    "    print('  mean: ' + str(score.mean()))\n",
    "    print('  std: ' + str(score.std()))\n",
    "    print('last_level')\n",
    "    print('  best: ' + str(last_level.max()))\n",
    "    print('  mean: ' + str(last_level.mean()))\n",
    "    print('  std: ' + str(last_level.std()))\n",
    "    print('time')\n",
    "    print('  best: ' + str(time.max()))\n",
    "    print('  mean: ' + str(time.mean()))\n",
    "    print('  std: ' + str(time.std()))\n",
    "    print()"
   ]
  },
  {
   "cell_type": "code",
   "execution_count": 5,
   "metadata": {
    "scrolled": false
   },
   "outputs": [
    {
     "name": "stdout",
     "output_type": "stream",
     "text": [
      "data/2017-05-22-measurements-phenotype_evaluation/multi_objective/HvsR.txt\n",
      "score\n",
      "  best: 57370\n",
      "  mean: 32441.25\n",
      "  std: 12711.9932795\n",
      "last_level\n",
      "  best: 17\n",
      "  mean: 10.201\n",
      "  std: 4.13359395684\n",
      "time\n",
      "  best: 24000\n",
      "  mean: 17536.217\n",
      "  std: 6604.66111333\n",
      "\n",
      "data/2017-05-22-measurements-phenotype_evaluation/multi_objective/MvsL.txt\n",
      "score\n",
      "  best: 10440\n",
      "  mean: 3872.62\n",
      "  std: 852.422627339\n",
      "last_level\n",
      "  best: 2\n",
      "  mean: 0.83\n",
      "  std: 0.39382737335\n",
      "time\n",
      "  best: 5245\n",
      "  mean: 1551.542\n",
      "  std: 309.021601569\n",
      "\n",
      "data/2017-05-22-measurements-phenotype_evaluation/multi_objective/MvsR.txt\n",
      "score\n",
      "  best: 62050\n",
      "  mean: 46921.92\n",
      "  std: 12424.7397604\n",
      "last_level\n",
      "  best: 18\n",
      "  mean: 14.997\n",
      "  std: 3.96673555963\n",
      "time\n",
      "  best: 24000\n",
      "  mean: 20868.05\n",
      "  std: 5094.49281337\n",
      "\n"
     ]
    }
   ],
   "source": [
    "[study(filename) for filename in filenames];"
   ]
  }
 ],
 "metadata": {
  "kernelspec": {
   "display_name": "Python 3",
   "language": "python",
   "name": "python3"
  },
  "language_info": {
   "codemirror_mode": {
    "name": "ipython",
    "version": 3
   },
   "file_extension": ".py",
   "mimetype": "text/x-python",
   "name": "python",
   "nbconvert_exporter": "python",
   "pygments_lexer": "ipython3",
   "version": "3.6.1"
  }
 },
 "nbformat": 4,
 "nbformat_minor": 2
}
